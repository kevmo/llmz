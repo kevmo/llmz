{
 "cells": [
  {
   "cell_type": "code",
   "execution_count": 2,
   "id": "51b34c55-c01d-41eb-895b-99437526acef",
   "metadata": {},
   "outputs": [],
   "source": [
    "from fastembed import TextEmbedding\n",
    "import numpy as np"
   ]
  },
  {
   "cell_type": "code",
   "execution_count": 3,
   "id": "2400dd40-a6d0-471b-a006-acd3b1ae65fc",
   "metadata": {},
   "outputs": [],
   "source": [
    "MODEL = 'jinaai/jina-embeddings-v2-small-en'\n",
    "\n",
    "embedding_model = TextEmbedding(MODEL)"
   ]
  },
  {
   "cell_type": "markdown",
   "id": "3fc5d614-e50b-4851-b855-56c61c9eb896",
   "metadata": {},
   "source": [
    "1. "
   ]
  },
  {
   "cell_type": "code",
   "execution_count": 4,
   "id": "b586dc49-eb58-4bea-8c74-05ade01dc911",
   "metadata": {},
   "outputs": [],
   "source": [
    "sample_query = 'I just discovered the course. Can I join now?'"
   ]
  },
  {
   "cell_type": "code",
   "execution_count": 5,
   "id": "c1353f1a-b813-4dff-89f9-a447764cdf1c",
   "metadata": {},
   "outputs": [
    {
     "data": {
      "text/plain": [
       "['EMBEDDINGS_REGISTRY',\n",
       " 'METADATA_FILE',\n",
       " '__annotations__',\n",
       " '__class__',\n",
       " '__class_getitem__',\n",
       " '__delattr__',\n",
       " '__dict__',\n",
       " '__dir__',\n",
       " '__doc__',\n",
       " '__eq__',\n",
       " '__firstlineno__',\n",
       " '__format__',\n",
       " '__ge__',\n",
       " '__getattribute__',\n",
       " '__getstate__',\n",
       " '__gt__',\n",
       " '__hash__',\n",
       " '__init__',\n",
       " '__init_subclass__',\n",
       " '__le__',\n",
       " '__lt__',\n",
       " '__module__',\n",
       " '__ne__',\n",
       " '__new__',\n",
       " '__orig_bases__',\n",
       " '__parameters__',\n",
       " '__reduce__',\n",
       " '__reduce_ex__',\n",
       " '__repr__',\n",
       " '__setattr__',\n",
       " '__sizeof__',\n",
       " '__static_attributes__',\n",
       " '__str__',\n",
       " '__subclasshook__',\n",
       " '__weakref__',\n",
       " '_embedding_size',\n",
       " '_get_model_description',\n",
       " '_list_supported_models',\n",
       " '_local_files_only',\n",
       " 'add_custom_model',\n",
       " 'cache_dir',\n",
       " 'decompress_to_cache',\n",
       " 'download_file_from_gcs',\n",
       " 'download_files_from_huggingface',\n",
       " 'download_model',\n",
       " 'embed',\n",
       " 'embedding_size',\n",
       " 'get_embedding_size',\n",
       " 'list_supported_models',\n",
       " 'model',\n",
       " 'model_name',\n",
       " 'passage_embed',\n",
       " 'query_embed',\n",
       " 'retrieve_model_gcs',\n",
       " 'threads']"
      ]
     },
     "execution_count": 5,
     "metadata": {},
     "output_type": "execute_result"
    }
   ],
   "source": [
    "dir(embedding_model)"
   ]
  },
  {
   "cell_type": "code",
   "execution_count": 12,
   "id": "c6c73781-e315-4ed4-98e2-d17bd6e3b0af",
   "metadata": {},
   "outputs": [],
   "source": [
    "results = list(embedding_model.embed([sample_query]))"
   ]
  },
  {
   "cell_type": "code",
   "execution_count": 13,
   "id": "8ad7000e-2360-4013-aca0-e7685b7a0b78",
   "metadata": {},
   "outputs": [
    {
     "data": {
      "text/plain": [
       "['__add__',\n",
       " '__args__',\n",
       " '__bases__',\n",
       " '__class__',\n",
       " '__class_getitem__',\n",
       " '__contains__',\n",
       " '__copy__',\n",
       " '__deepcopy__',\n",
       " '__delattr__',\n",
       " '__delitem__',\n",
       " '__dir__',\n",
       " '__doc__',\n",
       " '__eq__',\n",
       " '__format__',\n",
       " '__ge__',\n",
       " '__getattribute__',\n",
       " '__getitem__',\n",
       " '__getstate__',\n",
       " '__gt__',\n",
       " '__hash__',\n",
       " '__iadd__',\n",
       " '__imul__',\n",
       " '__init__',\n",
       " '__init_subclass__',\n",
       " '__iter__',\n",
       " '__le__',\n",
       " '__len__',\n",
       " '__lt__',\n",
       " '__mro_entries__',\n",
       " '__mul__',\n",
       " '__ne__',\n",
       " '__new__',\n",
       " '__origin__',\n",
       " '__parameters__',\n",
       " '__reduce__',\n",
       " '__reduce_ex__',\n",
       " '__repr__',\n",
       " '__reversed__',\n",
       " '__rmul__',\n",
       " '__setattr__',\n",
       " '__setitem__',\n",
       " '__sizeof__',\n",
       " '__str__',\n",
       " '__subclasshook__',\n",
       " '__typing_unpacked_tuple_args__',\n",
       " '__unpacked__',\n",
       " 'append',\n",
       " 'clear',\n",
       " 'copy',\n",
       " 'count',\n",
       " 'extend',\n",
       " 'index',\n",
       " 'insert',\n",
       " 'pop',\n",
       " 'remove',\n",
       " 'reverse',\n",
       " 'sort']"
      ]
     },
     "execution_count": 13,
     "metadata": {},
     "output_type": "execute_result"
    }
   ],
   "source": [
    "dir(list[0])"
   ]
  },
  {
   "cell_type": "code",
   "execution_count": 15,
   "id": "76533897-ec8e-458a-9d8d-ed49c5cac66c",
   "metadata": {},
   "outputs": [
    {
     "data": {
      "text/plain": [
       "512"
      ]
     },
     "execution_count": 15,
     "metadata": {},
     "output_type": "execute_result"
    }
   ],
   "source": [
    "len(results[0])"
   ]
  },
  {
   "cell_type": "code",
   "execution_count": 16,
   "id": "74fac830-c4f7-42b5-ae14-20b3b9efc228",
   "metadata": {},
   "outputs": [],
   "source": [
    "# print(len(results[0]))"
   ]
  },
  {
   "cell_type": "code",
   "execution_count": 17,
   "id": "fbdde21e-e753-4c77-8f9e-3bbec5c9e1ca",
   "metadata": {},
   "outputs": [
    {
     "name": "stdout",
     "output_type": "stream",
     "text": [
      "-0.11726373551188797\n"
     ]
    }
   ],
   "source": [
    "print(min(results[0]))"
   ]
  },
  {
   "cell_type": "code",
   "execution_count": 18,
   "id": "92ce3d1a-45cc-4701-a0ea-774df0029d09",
   "metadata": {},
   "outputs": [
    {
     "name": "stdout",
     "output_type": "stream",
     "text": [
      "Cosine similarity between query and document: [0.90085289]\n"
     ]
    }
   ],
   "source": [
    "# Q2. Cosine similarity with another vector\n",
    "doc = 'Can I still join the course after the start date?'\n",
    "\n",
    "# Embed the document\n",
    "doc_embedding = list(embedding_model.embed([doc]))[0]\n",
    "\n",
    "# Get the query embedding (already computed above)\n",
    "query_embedding = results\n",
    "\n",
    "# Calculate cosine similarity\n",
    "def cosine_similarity(v1, v2):\n",
    "    dot_product = np.dot(v1, v2)\n",
    "    norm_v1 = np.linalg.norm(v1)\n",
    "    norm_v2 = np.linalg.norm(v2)\n",
    "    return dot_product / (norm_v1 * norm_v2)\n",
    "\n",
    "# Calculate the cosine similarity\n",
    "cosine_sim = cosine_similarity(query_embedding, doc_embedding)\n",
    "print(f\"Cosine similarity between query and document: {cosine_sim}\")"
   ]
  },
  {
   "cell_type": "code",
   "execution_count": null,
   "id": "3050bb6a-828d-4723-b5f5-a9025b9481cd",
   "metadata": {},
   "outputs": [],
   "source": []
  }
 ],
 "metadata": {
  "kernelspec": {
   "display_name": "Python 3 (ipykernel)",
   "language": "python",
   "name": "python3"
  },
  "language_info": {
   "codemirror_mode": {
    "name": "ipython",
    "version": 3
   },
   "file_extension": ".py",
   "mimetype": "text/x-python",
   "name": "python",
   "nbconvert_exporter": "python",
   "pygments_lexer": "ipython3",
   "version": "3.13.0"
  }
 },
 "nbformat": 4,
 "nbformat_minor": 5
}
